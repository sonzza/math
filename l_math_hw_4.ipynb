{
 "cells": [
  {
   "cell_type": "markdown",
   "metadata": {},
   "source": [
    "__1.__ Решить систему уравнений методом Гаусса:\n",
    "\n",
    "$$\\begin{cases}\n",
    "x_{1}+x_{2}-x_{3}-2x_{4}=0, \\\\\n",
    "2x_{1}+x_{2}-x_{3}+x_{4}=-2, \\\\\n",
    "x_{1}+x_{2}-3x_{3}+x_{4}=4.\n",
    "\\end{cases}$$\n"
   ]
  },
  {
   "cell_type": "markdown",
   "metadata": {},
   "source": [
    "\n",
    "$$\\begin{pmatrix}\n",
    "\\left.\\begin{matrix}\n",
    "1 & 1 & -1 &-2 \\\\\n",
    "2 &1 & -1 & 1  \\\\\n",
    "1 &1 & -3 & 1 \n",
    "\\end{matrix}\n",
    "\\right|\n",
    "\\begin{matrix}\n",
    "0\\\\ \n",
    "-2\\\\\n",
    "4\\\\\n",
    "\\end{matrix}\\end{pmatrix}$$\n"
   ]
  },
  {
   "cell_type": "markdown",
   "metadata": {},
   "source": [
    "поменяем местами вторую и первую строку\n",
    "$$\\begin{pmatrix}\n",
    "\\left.\\begin{matrix}\n",
    "2 &1 & -1 & 1  \\\\\n",
    "1 & 1 & -1 &-2 \\\\\n",
    "1 &1 & -3 & 1 \n",
    "\\end{matrix}\n",
    "\\right|\n",
    "\\begin{matrix}\n",
    "-2\\\\ \n",
    "0\\\\\n",
    "4\\\\\n",
    "\\end{matrix}\\end{pmatrix}$$"
   ]
  },
  {
   "cell_type": "markdown",
   "metadata": {},
   "source": [
    "Вычтем из второй строки третью \n",
    "$$\\begin{pmatrix}\n",
    "\\left.\\begin{matrix}\n",
    "2 &1 & -1 & 1  \\\\\n",
    "0 & 0 & 2 &-3 \\\\\n",
    "1 &1 & -3 & 1 \n",
    "\\end{matrix}\n",
    "\\right|\n",
    "\\begin{matrix}\n",
    "-2\\\\ \n",
    "-4\\\\\n",
    "4\\\\\n",
    "\\end{matrix}\\end{pmatrix}$$"
   ]
  },
  {
   "cell_type": "markdown",
   "metadata": {},
   "source": [
    "поменяем местами вторую и третью строки\n",
    "$$\\begin{pmatrix}\n",
    "\\left.\\begin{matrix}\n",
    "2 &1 & -1 & 1  \\\\\n",
    "1 &1 & -3 & 1 \\\\\n",
    "0 & 0 & 2 &-3 \n",
    "\\end{matrix}\n",
    "\\right|\n",
    "\\begin{matrix}\n",
    "-2\\\\ \n",
    "4\\\\\n",
    "-4\\\\\n",
    "\\end{matrix}\\end{pmatrix}$$"
   ]
  },
  {
   "cell_type": "markdown",
   "metadata": {},
   "source": [
    "поделим первкю строку на 2\n",
    "\n",
    "$$\\begin{pmatrix}\n",
    "\\left.\\begin{matrix}\n",
    "1 &1/2 & -1/2 & 1/2  \\\\\n",
    "1 &1 & -3 & 1 \\\\\n",
    "0 & 0 & 2 &-3 \n",
    "\\end{matrix}\n",
    "\\right|\n",
    "\\begin{matrix}\n",
    "-1\\\\ \n",
    "4\\\\\n",
    "-4\\\\\n",
    "\\end{matrix}\\end{pmatrix}$$"
   ]
  },
  {
   "cell_type": "markdown",
   "metadata": {},
   "source": [
    "вычтем из второй первую\n",
    "$$\\begin{pmatrix}\n",
    "\\left.\\begin{matrix}\n",
    "1 &1/2 & -1/2 & 1/2  \\\\\n",
    "0 &1/2 & -2.5 & 1/2 \\\\\n",
    "0 & 0 & 2 &-3 \n",
    "\\end{matrix}\n",
    "\\right|\n",
    "\\begin{matrix}\n",
    "-1\\\\ \n",
    "5\\\\\n",
    "-4\\\\\n",
    "\\end{matrix}\\end{pmatrix}$$"
   ]
  },
  {
   "cell_type": "markdown",
   "metadata": {},
   "source": [
    "x4 = c\n",
    "\n",
    "x3 = -2 + 1.5c\n",
    "\n",
    "x2 = 10 + 5x3 - c\n",
    "\n",
    "x1 = -1 - 1/2x2 + 1/2x3 -1/2c"
   ]
  },
  {
   "cell_type": "markdown",
   "metadata": {},
   "source": [
    "__2.__ Проверить на совместность и выяснить, сколько решений будет иметь система линейных уравнений:\n",
    "\n",
    "   а) $\\begin{cases}\n",
    "3x_{1}-x_{2}+x_{3}=4, \\\\\n",
    "2x_{1}-5x_{2}-3x_{3}=-17, \\\\\n",
    "x_{1}+x_{2}-x_{3}=0;\n",
    "\\end{cases}$\n",
    "    \n",
    "   б) $\\begin{cases}\n",
    "2x_{1}-4x_{2}+6x_{3}=1, \\\\\n",
    "x_{1}-2x_{2}+3x_{3}=-2, \\\\\n",
    "3x_{1}-6x_{2}+9x_{3}=5;\n",
    "\\end{cases}$\n",
    "    \n",
    "   в) $\\begin{cases}\n",
    "x_{1}+2x_{2}+5x_{3}=4, \\\\\n",
    "3x_{1}+x_{2}-8x_{3}=-2. \n",
    "\\end{cases}$\n"
   ]
  },
  {
   "cell_type": "markdown",
   "metadata": {},
   "source": [
    "$$\\begin{pmatrix}\n",
    "\\left.\\begin{matrix}\n",
    "3 & -1 & 1 \\\\\n",
    "2 & -5 & -3 \\\\\n",
    "1 & 1 & -1  \n",
    "\\end{matrix}\n",
    "\\right|\n",
    "\\begin{matrix}\n",
    "4\\\\ \n",
    "-17\\\\\n",
    "0\\\\\n",
    "\\end{matrix}\\end{pmatrix}$$"
   ]
  },
  {
   "cell_type": "markdown",
   "metadata": {},
   "source": [
    "после преобразований получим \n",
    "$$\\begin{pmatrix}\n",
    "\\left.\\begin{matrix}\n",
    "1 & -1/3 & 1/3 \\\\\n",
    "0 & 1 & 11/13 \\\\\n",
    "0 & 0 & 1  \n",
    "\\end{matrix}\n",
    "\\right|\n",
    "\\begin{matrix}\n",
    "4/3\\\\ \n",
    "59/13\\\\\n",
    "3\\\\\n",
    "\\end{matrix}\\end{pmatrix}$$\n",
    "\n",
    "x3 = 3, \n",
    "\n",
    "x2 = 59/13 - 3*(11/13) = 26/13 = 2\n",
    "\n",
    "x1 = 4/3 + 2*1/3 - 3*(1/3) = 1\n",
    "\n",
    "Совместима, единственное решение\n",
    "\n"
   ]
  },
  {
   "cell_type": "markdown",
   "metadata": {},
   "source": [
    "$$\\begin{pmatrix}\n",
    "\\left.\\begin{matrix}\n",
    "2 & -4 & 6 \\\\\n",
    "1 & -2 & 3 \\\\\n",
    "3 & -6 & 9  \n",
    "\\end{matrix}\n",
    "\\right|\n",
    "\\begin{matrix}\n",
    "1\\\\ \n",
    "-2\\\\\n",
    "5\\\\\n",
    "\\end{matrix}\\end{pmatrix}$$"
   ]
  },
  {
   "cell_type": "markdown",
   "metadata": {},
   "source": [
    "при складывании первых двух строк получается третья с другим результатом - несовместимы."
   ]
  },
  {
   "cell_type": "markdown",
   "metadata": {},
   "source": [
    "$$\\begin{pmatrix}\n",
    "\\left.\\begin{matrix}\n",
    "1 & 2 & 5 \\\\\n",
    "3 & 1 & -8 \n",
    "\\end{matrix}\n",
    "\\right|\n",
    "\\begin{matrix}\n",
    "4\\\\ \n",
    "-2\n",
    "\\end{matrix}\\end{pmatrix}$$"
   ]
  },
  {
   "cell_type": "markdown",
   "metadata": {},
   "source": [
    "$$\\begin{pmatrix}\n",
    "\\left.\\begin{matrix}\n",
    "1 & 2 & 5 \\\\\n",
    "0 & 1 & 23/5 \n",
    "\\end{matrix}\n",
    "\\right|\n",
    "\\begin{matrix}\n",
    "4\\\\ \n",
    "14/5\n",
    "\\end{matrix}\\end{pmatrix}$$"
   ]
  },
  {
   "cell_type": "markdown",
   "metadata": {},
   "source": [
    "x3 = c\n",
    "\n",
    "x2 = 14/5 - 23/5c\n",
    "\n",
    "x1 = 4 - 2x2 - 5c\n",
    "Совместима, множество решений"
   ]
  },
  {
   "cell_type": "markdown",
   "metadata": {},
   "source": [
    "__3.__ Проверить на совместность и выяснить, сколько решений будет иметь система линейных уравнений, заданная расширенной матрицей\n",
    "\n",
    "$$\\tilde{A}=\\begin{pmatrix}\n",
    "\\left.\\begin{matrix}\n",
    "1 & 3 & -2 & 4\\\\ \n",
    "0 & 5 & 0 & 1\\\\ \n",
    "0 & 0 & 3 & 0\\\\ \n",
    "0 & 0 & 0 & 2\n",
    "\\end{matrix}\\right|\n",
    "\\begin{matrix}\n",
    "3\\\\ \n",
    "2\\\\\n",
    "4\\\\\n",
    "1\n",
    "\\end{matrix}\n",
    "\\end{pmatrix}.$$\n",
    "\n",
    "совместима, имеет единственное решение"
   ]
  },
  {
   "cell_type": "code",
   "execution_count": 12,
   "metadata": {},
   "outputs": [],
   "source": [
    "import numpy as np"
   ]
  },
  {
   "cell_type": "code",
   "execution_count": 17,
   "metadata": {},
   "outputs": [
    {
     "data": {
      "text/plain": [
       "4"
      ]
     },
     "execution_count": 17,
     "metadata": {},
     "output_type": "execute_result"
    }
   ],
   "source": [
    "np.linalg.matrix_rank(np.array([[1,3,-2,4], [0,5,0,1], [0, 0, 3, 0], [0, 0, 0, 2]]))"
   ]
  },
  {
   "cell_type": "code",
   "execution_count": 18,
   "metadata": {},
   "outputs": [
    {
     "data": {
      "text/plain": [
       "4"
      ]
     },
     "execution_count": 18,
     "metadata": {},
     "output_type": "execute_result"
    }
   ],
   "source": [
    "np.linalg.matrix_rank(np.array([[1,3,-2,4, 3], [0,5,0,1, 2], [0, 0, 3, 0, 4], [0, 0, 0, 2, 1]]))"
   ]
  },
  {
   "cell_type": "markdown",
   "metadata": {},
   "source": [
    "__4.__ Дана система линейных уравнений, заданная расширенной матрицей\n",
    "\n",
    "$$\\tilde{A}=\\begin{pmatrix}\n",
    "\\left.\\begin{matrix}\n",
    "1 & 2 & 3\\\\ \n",
    "4 & 5 & 6\\\\ \n",
    "7 & 8 & 9\n",
    "\\end{matrix}\\right|\n",
    "\\begin{matrix}\n",
    "a\\\\ \n",
    "b\\\\\n",
    "c\n",
    "\\end{matrix}\n",
    "\\end{pmatrix}.$$\n",
    "\n",
    "Найти соотношение между параметрами $a$, $b$ и $c$, при которых система является несовместной.\n",
    "\n"
   ]
  },
  {
   "cell_type": "markdown",
   "metadata": {},
   "source": [
    "$$\\tilde{A}=\\begin{pmatrix}\n",
    "\\left.\\begin{matrix}\n",
    "1 & 2 & 3\\\\ \n",
    "2 & 1 & 0\\\\ \n",
    "0 & 0 & 0\n",
    "\\end{matrix}\\right|\n",
    "\\begin{matrix}\n",
    "a\\\\ \n",
    "b - 2a\\\\\n",
    "c - 3a - 2b\n",
    "\\end{matrix}\n",
    "\\end{pmatrix}.$$\n"
   ]
  },
  {
   "cell_type": "markdown",
   "metadata": {},
   "source": [
    "Если с - 3a -2b не равно нулю, то система не будет иметь решений"
   ]
  },
  {
   "cell_type": "markdown",
   "metadata": {},
   "source": [
    "__1.__ Решить систему уравнений методом Крамера:\n",
    "\n",
    "   а) $$\\begin{cases}\n",
    "x_{1}-2x_{2}=1 \\\\\n",
    "3x_{1}-4x_{2}=7\n",
    "\\end{cases}.$$\n",
    "    \n",
    "   б) $$\\begin{cases}\n",
    "2x_{1}-x_{2}+5x_{3}=10 \\\\\n",
    "x_{1}+x_{2}-3x_{3}=-2 \\\\\n",
    "2x_{1}+4x_{2}+x_{3}=1\n",
    "\\end{cases}.$$"
   ]
  },
  {
   "cell_type": "code",
   "execution_count": 23,
   "metadata": {},
   "outputs": [
    {
     "data": {
      "text/plain": [
       "2"
      ]
     },
     "execution_count": 23,
     "metadata": {},
     "output_type": "execute_result"
    }
   ],
   "source": [
    "det_a = -4 + 6\n",
    "det_a"
   ]
  },
  {
   "cell_type": "code",
   "execution_count": 26,
   "metadata": {},
   "outputs": [
    {
     "data": {
      "text/plain": [
       "10"
      ]
     },
     "execution_count": 26,
     "metadata": {},
     "output_type": "execute_result"
    }
   ],
   "source": [
    "det_a_ = 7 + 3\n",
    "det_a_"
   ]
  },
  {
   "cell_type": "code",
   "execution_count": 27,
   "metadata": {},
   "outputs": [
    {
     "data": {
      "text/plain": [
       "10"
      ]
     },
     "execution_count": 27,
     "metadata": {},
     "output_type": "execute_result"
    }
   ],
   "source": [
    "det_a__ = -4 + 14\n",
    "det_a__"
   ]
  },
  {
   "cell_type": "code",
   "execution_count": 29,
   "metadata": {},
   "outputs": [
    {
     "data": {
      "text/plain": [
       "5.0"
      ]
     },
     "execution_count": 29,
     "metadata": {},
     "output_type": "execute_result"
    }
   ],
   "source": [
    "kram_a = det_a_/det_a\n",
    "kram_a "
   ]
  },
  {
   "cell_type": "code",
   "execution_count": 30,
   "metadata": {},
   "outputs": [
    {
     "data": {
      "text/plain": [
       "43"
      ]
     },
     "execution_count": 30,
     "metadata": {},
     "output_type": "execute_result"
    }
   ],
   "source": [
    "det_b = 2*1*1 + 2*(-1)*(-3) + 1*4*5 - 2*1*5 - 2*4*(-3) - 1*(-1)*1\n",
    "det_b"
   ]
  },
  {
   "cell_type": "code",
   "execution_count": 40,
   "metadata": {},
   "outputs": [
    {
     "data": {
      "text/plain": [
       "42.99999999999998"
      ]
     },
     "execution_count": 40,
     "metadata": {},
     "output_type": "execute_result"
    }
   ],
   "source": [
    "det_b_ = np.linalg.det([[2, -1, 10], [1, 1, -2], [2, 4, 1]])\n",
    "det_b_"
   ]
  },
  {
   "cell_type": "code",
   "execution_count": 41,
   "metadata": {},
   "outputs": [
    {
     "data": {
      "text/plain": [
       "0.9999999999999996"
      ]
     },
     "execution_count": 41,
     "metadata": {},
     "output_type": "execute_result"
    }
   ],
   "source": [
    "kram_b = det_b_/det_b\n",
    "kram_b"
   ]
  }
 ],
 "metadata": {
  "kernelspec": {
   "display_name": "Python 3",
   "language": "python",
   "name": "python3"
  },
  "language_info": {
   "codemirror_mode": {
    "name": "ipython",
    "version": 3
   },
   "file_extension": ".py",
   "mimetype": "text/x-python",
   "name": "python",
   "nbconvert_exporter": "python",
   "pygments_lexer": "ipython3",
   "version": "3.7.4"
  }
 },
 "nbformat": 4,
 "nbformat_minor": 2
}
