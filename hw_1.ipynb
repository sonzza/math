{
 "cells": [
  {
   "cell_type": "markdown",
   "metadata": {},
   "source": [
    "**Задание №1**\n",
    "\n",
    "*Тема “Введение в математических анализ”*"
   ]
  },
  {
   "cell_type": "markdown",
   "metadata": {},
   "source": [
    "Множеством является элементы, объединенные общим признаком. Последовательность может быть частью/дочерним субьектом множества, но для последовательности важен порядок построения его элементов. "
   ]
  },
  {
   "cell_type": "markdown",
   "metadata": {},
   "source": [
    "1. Все y принадлежат отрезку от 0 до 1, при функции sgn от y равной 1\n",
    "2. При любом n из N больше 2 существуют x, y, z из N при которых x в степени n = y в степени n плюс z в степени n\n",
    "3. Для любого x принадлежащего множеству всех вещественных чисел существует X принадлежащая множесту всех вещественных чисел которая меньше x\n",
    "4. Для любого x принадлежащего множеству С не существует ни одног y принадлежащего C при котором x будет или больше или меньше y\n",
    "5. Для любого y принадлежащего отрезку от 0 до пи пополам существует хотя бы один e больше нуля при котором синус y меньше чем синус суммы y и e\n",
    "6. Для любого y принадлежащего отрезку от 0 до пи существует хотя бы один e больше нуля при котором косинус y больше чем косинус суммы y и e\n",
    "7. Существует хотя бы один x не принадлежащий множествам N, Z, Q, R, C"
   ]
  },
  {
   "cell_type": "markdown",
   "metadata": {},
   "source": [
    "**Задание №2**\n",
    "\n",
    "\n",
    "*Тема “Множество”*"
   ]
  },
  {
   "cell_type": "code",
   "execution_count": 1,
   "metadata": {},
   "outputs": [],
   "source": [
    "a = [5, 4, 6, 9, 12]\n",
    "b = [3, 7, 9, 5, 6]\n",
    "c = [1, 2, 3, 4, 5]"
   ]
  },
  {
   "cell_type": "markdown",
   "metadata": {},
   "source": [
    "Пересечение"
   ]
  },
  {
   "cell_type": "code",
   "execution_count": 2,
   "metadata": {},
   "outputs": [
    {
     "name": "stdout",
     "output_type": "stream",
     "text": [
      "[5, 6, 9]\n",
      "[3, 5]\n",
      "[5, 4]\n"
     ]
    }
   ],
   "source": [
    "\n",
    "def intersec(f_bunch, s_bunch):\n",
    "    result = []\n",
    "    for itm in f_bunch:\n",
    "        if itm in s_bunch:\n",
    "            result.append(itm)\n",
    "    return result\n",
    "    \n",
    "print(intersec(a, b))\n",
    "print(intersec(c, b))\n",
    "print(intersec(a, c))"
   ]
  },
  {
   "cell_type": "markdown",
   "metadata": {},
   "source": [
    "Объединение"
   ]
  },
  {
   "cell_type": "code",
   "execution_count": 3,
   "metadata": {},
   "outputs": [
    {
     "name": "stdout",
     "output_type": "stream",
     "text": [
      "{3, 4, 5, 6, 7, 9, 12}\n",
      "{1, 2, 3, 4, 5, 6, 9, 12}\n",
      "{1, 2, 3, 4, 5, 6, 7, 9}\n"
     ]
    }
   ],
   "source": [
    "print(set(a + b))\n",
    "print(set(a + c))\n",
    "print(set(b + c))"
   ]
  },
  {
   "cell_type": "markdown",
   "metadata": {},
   "source": [
    "Разность"
   ]
  },
  {
   "cell_type": "code",
   "execution_count": 4,
   "metadata": {},
   "outputs": [
    {
     "name": "stdout",
     "output_type": "stream",
     "text": [
      "[4, 9, 12]\n",
      "[1, 2, 4]\n",
      "[9, 12]\n"
     ]
    }
   ],
   "source": [
    "def difference(f_bunch, s_bunch):\n",
    "    result = f_bunch\n",
    "    for itm in f_bunch: \n",
    "        if itm in s_bunch: \n",
    "            result.remove(itm)\n",
    "    return result\n",
    "\n",
    "print(difference(a, b))\n",
    "print(difference(c, b))\n",
    "print(difference(a, c))"
   ]
  },
  {
   "cell_type": "code",
   "execution_count": 5,
   "metadata": {},
   "outputs": [
    {
     "name": "stdout",
     "output_type": "stream",
     "text": [
      "[3, 5, 6, 7, 12]\n",
      "[1, 2, 3, 4, 5, 6, 7, 9]\n",
      "[1, 2, 4, 9, 12]\n"
     ]
    }
   ],
   "source": [
    "def sim_difference(f_bunch, s_bunch):\n",
    "    result = list(set(f_bunch + s_bunch))\n",
    "    for itm in result:\n",
    "        if itm in s_bunch and itm in f_bunch: \n",
    "            result.remove(itm)\n",
    "    return result\n",
    "\n",
    "print(sim_difference(a, b))\n",
    "print(sim_difference(c, b))\n",
    "print(sim_difference(a, c))"
   ]
  },
  {
   "cell_type": "code",
   "execution_count": 6,
   "metadata": {},
   "outputs": [
    {
     "name": "stdout",
     "output_type": "stream",
     "text": [
      "[(9, 7), (9, 9), (9, 5), (9, 6), (12, 3), (12, 9), (12, 5), (12, 6)]\n",
      "[(1, 7), (1, 9), (1, 5), (1, 6), (2, 3), (2, 9), (2, 5), (2, 6), (4, 3), (4, 7), (4, 5), (4, 6)]\n",
      "[(9, 2), (9, 4), (12, 1), (12, 4)]\n"
     ]
    }
   ],
   "source": [
    "import itertools\n",
    "def dec_composition(f_bunch, s_bunch): \n",
    "    result = []\n",
    "    for itm in f_bunch: \n",
    "        result = [(x,y) for x,y in itertools.product(f_bunch, s_bunch) if f_bunch.index(x) != s_bunch.index(y)]\n",
    "    return result\n",
    "\n",
    "print(dec_composition(a, b))\n",
    "print(dec_composition(c, b))\n",
    "print(dec_composition(a, c))\n",
    "        "
   ]
  },
  {
   "cell_type": "markdown",
   "metadata": {},
   "source": [
    "**Задание №3**\n",
    "\n",
    "*Тема 3 “Последовательность”*"
   ]
  },
  {
   "cell_type": "code",
   "execution_count": null,
   "metadata": {},
   "outputs": [],
   "source": []
  },
  {
   "cell_type": "code",
   "execution_count": null,
   "metadata": {},
   "outputs": [],
   "source": []
  },
  {
   "cell_type": "code",
   "execution_count": null,
   "metadata": {},
   "outputs": [],
   "source": []
  }
 ],
 "metadata": {
  "kernelspec": {
   "display_name": "Python 3",
   "language": "python",
   "name": "python3"
  },
  "language_info": {
   "codemirror_mode": {
    "name": "ipython",
    "version": 3
   },
   "file_extension": ".py",
   "mimetype": "text/x-python",
   "name": "python",
   "nbconvert_exporter": "python",
   "pygments_lexer": "ipython3",
   "version": "3.7.4"
  }
 },
 "nbformat": 4,
 "nbformat_minor": 2
}
