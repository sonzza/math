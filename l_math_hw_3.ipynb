{
 "cells": [
  {
   "cell_type": "markdown",
   "metadata": {},
   "source": [
    "_1.__ Найти собственные векторы и собственные значения для линейного оператора, заданного матрицей\n",
    "\n",
    "$$A=\\begin{pmatrix}\n",
    "-1 & -6\\\\ \n",
    "2 & 6\n",
    "\\end{pmatrix}.$$\n"
   ]
  },
  {
   "cell_type": "markdown",
   "metadata": {},
   "source": [
    "$$\\begin{pmatrix}\n",
    "-1-\\lambda & -6\\\\ \n",
    "2 & 6-\\lambda\n",
    "\\end{pmatrix}=0.$$\n"
   ]
  },
  {
   "cell_type": "markdown",
   "metadata": {},
   "source": [
    "((-1) - \\lambda)*(6 - \\lambda)) - (-6 * 2) = 0\n",
    "\n",
    "-5*\\lambda +\\lambda^2 + 6 = 0\n"
   ]
  },
  {
   "cell_type": "markdown",
   "metadata": {},
   "source": [
    "1_\\lambda = 3\n",
    "\n",
    "2_\\lambda = 2"
   ]
  },
  {
   "cell_type": "markdown",
   "metadata": {},
   "source": [
    "$$A1=\\begin{pmatrix}\n",
    "-4 & -6\\\\ \n",
    "2 & 3\n",
    "\\end{pmatrix}.$$\n",
    "\n",
    "\n",
    "$$A2=\\begin{pmatrix}\n",
    "-3 & -6\\\\ \n",
    "2 & 4\n",
    "\\end{pmatrix}.$$"
   ]
  },
  {
   "cell_type": "markdown",
   "metadata": {},
   "source": [
    "-4x1-6x2 = 0\n",
    "\n",
    "2x1+3x2 = 0\n",
    "\n",
    "-2x1 = 3x2\n",
    "\n",
    "x1 = -3\n",
    "x2 =2\n"
   ]
  },
  {
   "cell_type": "markdown",
   "metadata": {},
   "source": [
    "-3x1-6x2 = 0\n",
    "\n",
    "2x1+4x2 = 0\n",
    "\n",
    "x1 = 2x2\n",
    "\n",
    "x1 = 2\n",
    "x2 = 1"
   ]
  },
  {
   "cell_type": "markdown",
   "metadata": {},
   "source": [
    "__2.__ Дан оператор поворота на 180 градусов, задаваемый матрицей \n",
    "\n",
    "$$A=\\begin{pmatrix}\n",
    "-1 & 0\\\\ \n",
    "0 & -1\n",
    "\\end{pmatrix}.$$\n",
    "\n",
    "Показать, что __любой__ вектор является для него собственным."
   ]
  },
  {
   "cell_type": "markdown",
   "metadata": {},
   "source": [
    "$$\\begin{pmatrix}\n",
    "-1 & 0\\\\ \n",
    "0 & -1\n",
    "\\end{pmatrix}\\begin{pmatrix}\n",
    "x1 \\\\\n",
    "x2\n",
    "\\end{pmatrix} = (-1)\\begin{pmatrix}\n",
    "x1\\\\\n",
    "x2\n",
    "\\end{pmatrix}.$$\n",
    "\n",
    "равенство будет верно при любых x1 и x2"
   ]
  },
  {
   "cell_type": "markdown",
   "metadata": {},
   "source": [
    "__3.__ Пусть линейный оператор задан матрицей\n",
    "\n",
    "$$A=\\begin{pmatrix}\n",
    "1 & 1\\\\ \n",
    "-1 & 3\n",
    "\\end{pmatrix}.$$\n",
    "\n",
    "Установить, является ли вектор $x=(1,1)$ собственным вектором этого линейного оператора.\n"
   ]
  },
  {
   "cell_type": "markdown",
   "metadata": {},
   "source": [
    "$$\\begin{pmatrix}\n",
    "1 & 1\\\\ \n",
    "-1 & 3\n",
    "\\end{pmatrix}\\begin{pmatrix}\n",
    "1 \\\\\n",
    "1\n",
    "\\end{pmatrix} = \\lambda\\begin{pmatrix}\n",
    "1\\\\\n",
    "1\n",
    "\\end{pmatrix}.$$"
   ]
  },
  {
   "cell_type": "markdown",
   "metadata": {},
   "source": [
    "1 + 1 = \\lambda\n",
    "\n",
    "-1 + 3 = \\lambda\n",
    "\n",
    "\\lambda = 2\n",
    "\n",
    "Вектор является собственным. "
   ]
  },
  {
   "cell_type": "markdown",
   "metadata": {},
   "source": [
    "__4.__ Пусть линейный оператор задан матрицей\n",
    "\n",
    "$$A=\\begin{pmatrix}\n",
    "0 & 3 & 0\\\\ \n",
    "3 & 0 & 0\\\\\n",
    "0 & 0 & 3\n",
    "\\end{pmatrix}.$$\n",
    "\n",
    "Установить, является ли вектор $x=(3, -3, -4)$ собственным вектором этого линейного оператора.\n",
    "\n",
    "$$\\begin{pmatrix}\n",
    "0 & 3 & 0\\\\ \n",
    "3 & 0 & 0\\\\\n",
    "0 & 0 & 3\n",
    "\\end{pmatrix}\\begin{pmatrix}\n",
    "3 \\\\\n",
    "-3\\\\\n",
    "-4\n",
    "\\end{pmatrix} = \\lambda\\begin{pmatrix}\n",
    "3 \\\\\n",
    "-3\\\\\n",
    "-4\n",
    "\\end{pmatrix}.$$"
   ]
  },
  {
   "cell_type": "markdown",
   "metadata": {},
   "source": [
    "0+(-9)+0 = 3\\lambda\n",
    "\n",
    "9-0-0=-3\\lambda\n",
    "\n",
    "0-0-12 = -4\\lambda\n",
    "\n",
    "\n",
    "-3 = \\lambda\n",
    "\n",
    "3 = -\\lambda\n",
    "\n",
    "-3 = -\\lambda\n",
    "\n",
    "не является так как лямбда принимает два значения. "
   ]
  },
  {
   "cell_type": "code",
   "execution_count": null,
   "metadata": {},
   "outputs": [],
   "source": []
  }
 ],
 "metadata": {
  "kernelspec": {
   "display_name": "Python 3",
   "language": "python",
   "name": "python3"
  },
  "language_info": {
   "codemirror_mode": {
    "name": "ipython",
    "version": 3
   },
   "file_extension": ".py",
   "mimetype": "text/x-python",
   "name": "python",
   "nbconvert_exporter": "python",
   "pygments_lexer": "ipython3",
   "version": "3.7.4"
  }
 },
 "nbformat": 4,
 "nbformat_minor": 2
}
